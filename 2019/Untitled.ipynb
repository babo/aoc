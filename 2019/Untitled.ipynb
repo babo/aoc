{
 "cells": [
  {
   "cell_type": "code",
   "execution_count": 7,
   "metadata": {},
   "outputs": [
    {
     "name": "stdout",
     "output_type": "stream",
     "text": [
      "99 300 400  =  799\n",
      "100 303 404  =  807\n",
      "101 306 408  =  815\n",
      "102 309 412  =  823\n",
      "103 312 416  =  831\n",
      "104 315 420  =  839\n",
      "105 318 424  =  847\n",
      "106 321 428  =  855\n",
      "107 324 432  =  863\n",
      "108 327 436  =  871\n"
     ]
    }
   ],
   "source": [
    "for i in range(100, 110):\n",
    "    print((i-1), i * 3, i * 4, ' = ', (i-1) + i * 7)"
   ]
  },
  {
   "cell_type": "code",
   "execution_count": 5,
   "metadata": {},
   "outputs": [
    {
     "data": {
      "text/plain": [
       "'000+++000---000+++000---000+++000---000+++000---000+++000---000+++000---000+++000---000+++000---000+++000---'"
      ]
     },
     "execution_count": 5,
     "metadata": {},
     "output_type": "execute_result"
    }
   ],
   "source": [
    "'000+++000---' * 9"
   ]
  }
 ],
 "metadata": {
  "kernelspec": {
   "display_name": "Python 3",
   "language": "python",
   "name": "python3"
  },
  "language_info": {
   "codemirror_mode": {
    "name": "ipython",
    "version": 3
   },
   "file_extension": ".py",
   "mimetype": "text/x-python",
   "name": "python",
   "nbconvert_exporter": "python",
   "pygments_lexer": "ipython3",
   "version": "3.7.4"
  }
 },
 "nbformat": 4,
 "nbformat_minor": 2
}
