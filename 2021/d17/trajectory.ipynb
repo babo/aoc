{
 "cells": [
  {
   "cell_type": "code",
   "execution_count": 34,
   "id": "8e9a60b6",
   "metadata": {},
   "outputs": [],
   "source": [
    "def trajectory_x(vel, minx, maxx):\n",
    "    x = 0\n",
    "    i = 0\n",
    "    hits = []\n",
    "    while vel >= 0:\n",
    "        i += 1\n",
    "        # print(x, vel)\n",
    "        x += vel\n",
    "        if vel > 0:\n",
    "            vel -= 1\n",
    "        if x >= minx and x <= maxx:\n",
    "            # print('hit x', x, vel)\n",
    "            hits.append(i)\n",
    "        if x > maxx or vel == 0:\n",
    "            # print('miss')\n",
    "            break\n",
    "    return hits, vel==0"
   ]
  },
  {
   "cell_type": "code",
   "execution_count": 36,
   "id": "8c12f052",
   "metadata": {},
   "outputs": [
    {
     "name": "stdout",
     "output_type": "stream",
     "text": [
      "6 ([5, 6], True)\n",
      "7 ([4, 5, 6, 7], True)\n",
      "8 ([3, 4, 5], False)\n",
      "9 ([3, 4], False)\n",
      "10 ([3], False)\n",
      "11 ([2, 3], False)\n",
      "12 ([2], False)\n",
      "13 ([2], False)\n",
      "14 ([2], False)\n",
      "15 ([2], False)\n",
      "20 ([1], False)\n",
      "21 ([1], False)\n",
      "22 ([1], False)\n",
      "23 ([1], False)\n",
      "24 ([1], False)\n",
      "25 ([1], False)\n",
      "26 ([1], False)\n",
      "27 ([1], False)\n",
      "28 ([1], False)\n",
      "29 ([1], False)\n"
     ]
    }
   ],
   "source": [
    "for i in range(1, 30):\n",
    "    s = trajectory_x(i, 20, 30)\n",
    "    if s[0]:\n",
    "        print(i, s)"
   ]
  },
  {
   "cell_type": "code",
   "execution_count": 23,
   "id": "1d51fbd8",
   "metadata": {},
   "outputs": [],
   "source": [
    "def trajectory_y(vel, miny, maxy):\n",
    "    y = 0\n",
    "    i = 0\n",
    "    my = 0\n",
    "    while y >= miny:\n",
    "        i += 1\n",
    "        y += vel\n",
    "        my = max(my, y)\n",
    "        vel -= 1\n",
    "        if y >= miny and y <= maxy:\n",
    "            # print('hit', y, vel)\n",
    "            return True, i, my\n",
    "    return False, i, my"
   ]
  },
  {
   "cell_type": "code",
   "execution_count": 29,
   "id": "3e5fceac",
   "metadata": {},
   "outputs": [
    {
     "name": "stdout",
     "output_type": "stream",
     "text": [
      "-10 True 1 0\n",
      "-9 True 1 0\n",
      "-8 True 1 0\n",
      "-7 True 1 0\n",
      "-6 True 1 0\n",
      "-5 True 1 0\n",
      "-4 True 2 0\n",
      "-3 True 2 0\n",
      "-2 True 2 0\n",
      "-1 True 3 0\n",
      "0 True 4 0\n",
      "1 True 5 1\n",
      "2 True 7 3\n",
      "3 True 9 6\n",
      "4 True 10 10\n",
      "5 True 12 15\n",
      "6 True 14 21\n",
      "7 True 16 28\n",
      "8 True 18 36\n",
      "9 True 20 45\n"
     ]
    }
   ],
   "source": [
    "for i in range(-10, 100):\n",
    "    s = trajectory_y(i, -10, -5)\n",
    "    if s[0]:\n",
    "        print(i, s[0], s[1], s[2])"
   ]
  }
 ],
 "metadata": {
  "kernelspec": {
   "display_name": "Python 3 (ipykernel)",
   "language": "python",
   "name": "python3"
  },
  "language_info": {
   "codemirror_mode": {
    "name": "ipython",
    "version": 3
   },
   "file_extension": ".py",
   "mimetype": "text/x-python",
   "name": "python",
   "nbconvert_exporter": "python",
   "pygments_lexer": "ipython3",
   "version": "3.10.0"
  }
 },
 "nbformat": 4,
 "nbformat_minor": 5
}
