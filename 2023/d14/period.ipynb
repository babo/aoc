{
 "cells": [
  {
   "cell_type": "code",
   "execution_count": 67,
   "id": "dfda8fc6-1180-4ea2-9780-884a0c89a2ab",
   "metadata": {},
   "outputs": [
    {
     "data": {
      "text/plain": [
       "1000000"
      ]
     },
     "execution_count": 67,
     "metadata": {},
     "output_type": "execute_result"
    }
   ],
   "source": [
    "with open('./c') as fd:\n",
    "    raw = [int(x.strip()) for x in fd.readlines()]\n",
    "\n",
    "len(raw)"
   ]
  },
  {
   "cell_type": "code",
   "execution_count": 55,
   "id": "2a92430b-6a61-4c34-9418-774a6adaf0cd",
   "metadata": {},
   "outputs": [],
   "source": [
    "def f(tol):\n",
    "    buckets = {i: 0 for i in set(raw[tol:])}\n",
    "    for x in raw[tol:]:\n",
    "        buckets[x] += 1\n",
    "    return buckets\n",
    "\n",
    "buckets = f(197)"
   ]
  },
  {
   "cell_type": "code",
   "execution_count": 70,
   "id": "46742b88-ddb2-43ba-993d-734d3b33cebe",
   "metadata": {},
   "outputs": [],
   "source": [
    "v198 = min(buckets.keys())"
   ]
  },
  {
   "cell_type": "code",
   "execution_count": 59,
   "id": "8936a036-bfcf-4d7a-b86c-19bb97906cf4",
   "metadata": {},
   "outputs": [
    {
     "data": {
      "text/plain": [
       "102639"
      ]
     },
     "execution_count": 59,
     "metadata": {},
     "output_type": "execute_result"
    }
   ],
   "source": [
    "raw[198]"
   ]
  },
  {
   "cell_type": "code",
   "execution_count": 68,
   "id": "44e96452-0e0c-4f72-83db-f6d0329c4131",
   "metadata": {},
   "outputs": [
    {
     "name": "stdout",
     "output_type": "stream",
     "text": [
      "6 18 18 16 9 12 3 4 17 21 14 8 15 1 3 20 19 13 11 13 0 \n",
      "6 18 18 16 9 12 3 4 17 21 14 8 15 1 3 20 19 13 11 13 0 \n",
      "6 18 18 16 9 12 3 4 17 21 14 8 15 1 3 20 19 13 11 13 0 \n",
      "6 18 18 16 9 12 3 4 17 21 14 8 15 1 3 20 19 13 11 13 0 \n",
      "6 18 18 16 9 12 3 4 17 21 14 8 15 1 3 20 19 13 11 13 0 \n",
      "6 18 18 16 9 12 3 4 17 21 14 8 15 1 3 20 19 13 11 13 0 \n",
      "6 18 18 16 9 12 3 4 17 21 14 8 15 1 3 20 19 13 11 13 0 \n",
      "6 18 18 16 9 12 3 4 17 21 14 8 15 1 3 20 19 13 11 13 0 \n",
      "6 18 18 16 9 12 3 4 17 21 14 8 15 1 3 20 19 13 11 13 0 \n",
      "6 18 18 16 9 12 3 4 17 21 14 8 15 1 3 20 19 13 11 13 0 \n",
      "6 18 "
     ]
    }
   ],
   "source": [
    "for x in range(199, 411):\n",
    "    print(raw[x] - 102639, '', end='')\n",
    "    if x >= 198 and (x - 198) % 21 == 0:\n",
    "        print()"
   ]
  },
  {
   "cell_type": "code",
   "execution_count": 76,
   "id": "5f1a084f-83aa-4796-af9b-f0752e7e7208",
   "metadata": {},
   "outputs": [
    {
     "data": {
      "text/plain": [
       "102657"
      ]
     },
     "execution_count": 76,
     "metadata": {},
     "output_type": "execute_result"
    }
   ],
   "source": [
    "raw[197 + (1000000000 - 198) % 21]"
   ]
  },
  {
   "cell_type": "code",
   "execution_count": 74,
   "id": "9a38bf53-2cb1-48b3-8ec8-2baaee70e540",
   "metadata": {},
   "outputs": [
    {
     "data": {
      "text/plain": [
       "102647"
      ]
     },
     "execution_count": 74,
     "metadata": {},
     "output_type": "execute_result"
    }
   ],
   "source": [
    "raw[-1]"
   ]
  }
 ],
 "metadata": {
  "kernelspec": {
   "display_name": "Python 3 (ipykernel)",
   "language": "python",
   "name": "python3"
  },
  "language_info": {
   "codemirror_mode": {
    "name": "ipython",
    "version": 3
   },
   "file_extension": ".py",
   "mimetype": "text/x-python",
   "name": "python",
   "nbconvert_exporter": "python",
   "pygments_lexer": "ipython3",
   "version": "3.11.6"
  }
 },
 "nbformat": 4,
 "nbformat_minor": 5
}
