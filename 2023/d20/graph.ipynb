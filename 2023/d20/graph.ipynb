{
 "cells": [
  {
   "cell_type": "code",
   "execution_count": 5,
   "id": "3b7e7b05-30bf-4ab3-8eb7-6096f5292cbf",
   "metadata": {},
   "outputs": [
    {
     "name": "stdout",
     "output_type": "stream",
     "text": [
      "73 2620\n",
      "79 2600\n",
      "36 2567\n",
      "84 2559\n"
     ]
    }
   ],
   "source": [
    "with open('./counts.log') as fd:\n",
    "    counts = {}\n",
    "    for line in fd.readlines()[100:]:\n",
    "        ab = tuple([int(x) for x in line.strip().split()])\n",
    "        if ab[1] not in counts:\n",
    "            counts[ab[1]] = [ab[0]]\n",
    "        else:\n",
    "            counts[ab[1]].append(ab[0])\n",
    "\n",
    "for x in counts:\n",
    "    print(x, len(counts[x]))"
   ]
  },
  {
   "cell_type": "code",
   "execution_count": 8,
   "id": "d7d7532b-688b-45d2-a3a5-1b493d48133e",
   "metadata": {},
   "outputs": [
    {
     "name": "stdout",
     "output_type": "stream",
     "text": [
      "73 {3851}\n",
      "79 {3881}\n",
      "36 {3931}\n",
      "84 {3943}\n"
     ]
    }
   ],
   "source": [
    "for k in counts:\n",
    "    prev = counts[k][0]\n",
    "    d = set()\n",
    "    for x in counts[k][1:]:\n",
    "        d.add(x - prev)\n",
    "        prev = x\n",
    "    print(k, d)"
   ]
  },
  {
   "cell_type": "code",
   "execution_count": null,
   "id": "464d5a60-298c-471f-979e-325e846b1834",
   "metadata": {},
   "outputs": [],
   "source": [
    "network = dict()\n",
    "reverse = dict()\n",
    "\n",
    "all = set()\n",
    "\n",
    "with open('input.txt') as fd:\n",
    "    for line in fd.readlines():\n",
    "        if not line:\n",
    "            continue\n",
    "        name = line.split(' -> ')[0]\n",
    "        t = name[0]\n",
    "        if t == '%':\n",
    "            name = name[1:]\n",
    "        elif t == '&':\n",
    "            name = name[1:]\n",
    "        children = line.strip().split(' -> ')[1].split(', ')\n",
    "        all.add(name)\n",
    "        all.update(children)\n",
    "        network[name] = (t, children)\n",
    "        \n",
    "for x in all:\n",
    "    if x not in network:\n",
    "        network[x] = ('*', [])\n",
    "\n",
    "for name in network:\n",
    "    for c in network[name][1]:\n",
    "        if c not in reverse:\n",
    "            reverse[c] = []\n",
    "        reverse[c].append(name)\n",
    "        \n",
    "for k in sorted(reverse):\n",
    "    print(network[k][0], k, '->', ', '.join(sorted(reverse[k])))"
   ]
  },
  {
   "cell_type": "code",
   "execution_count": null,
   "id": "ae9ebab0-0c41-432f-a109-28573b472fd4",
   "metadata": {},
   "outputs": [],
   "source": [
    "print('digraph {')\n",
    "print('\\tbroadcaster [color=\"red\"];')\n",
    "print('\\trx [color=\"blue\"];')\n",
    "\n",
    "for k in network:\n",
    "    if network[k][0] == '&':\n",
    "        print(f'\\t{k} [shape=\"invtriangle\"];')\n",
    "    print(f'\\t{k} -> {{', ','.join(network[k][1]), '}')\n",
    "print('}')"
   ]
  }
 ],
 "metadata": {
  "kernelspec": {
   "display_name": "Python 3 (ipykernel)",
   "language": "python",
   "name": "python3"
  },
  "language_info": {
   "codemirror_mode": {
    "name": "ipython",
    "version": 3
   },
   "file_extension": ".py",
   "mimetype": "text/x-python",
   "name": "python",
   "nbconvert_exporter": "python",
   "pygments_lexer": "ipython3",
   "version": "3.11.6"
  }
 },
 "nbformat": 4,
 "nbformat_minor": 5
}
