{
 "cells": [
  {
   "cell_type": "code",
   "execution_count": 1,
   "id": "390eceea-2bdc-403a-8fa1-e1777655d390",
   "metadata": {},
   "outputs": [],
   "source": [
    "import math\n",
    "\n",
    "from functools import cmp_to_key\n",
    "from operator import itemgetter"
   ]
  },
  {
   "cell_type": "code",
   "execution_count": 2,
   "id": "380654d0-2463-47f4-965d-38447e0cb6ca",
   "metadata": {},
   "outputs": [],
   "source": [
    "with open('./input.txt') as fd:\n",
    "    raw = fd.readlines()"
   ]
  },
  {
   "cell_type": "code",
   "execution_count": 3,
   "id": "0b78346c-d383-4f44-a871-8db0084b5eb1",
   "metadata": {},
   "outputs": [],
   "source": [
    "data = [tuple([tuple([int(b.strip()) for b in a.split(',')]) for a in x.strip().split(' @ ')]) for x in raw]"
   ]
  },
  {
   "cell_type": "code",
   "execution_count": null,
   "id": "625ecf19-d8b5-4fdb-b8d6-9014c463a0f8",
   "metadata": {},
   "outputs": [],
   "source": [
    "[x[1][1] for x in sorted(data, key=lambda x: x[1][1])][:10]"
   ]
  },
  {
   "cell_type": "code",
   "execution_count": 4,
   "id": "59a30628-3ef7-48cb-93d2-4aa5a1e8d8db",
   "metadata": {},
   "outputs": [],
   "source": [
    "def get_sorted(data, t=0, coord=0):\n",
    "    return sorted([x for x in range(len(data))], key=lambda x: data[x][0][coord] + t * data[x][1][coord])\n",
    "\n",
    "def d(coord=0, t=0):\n",
    " return sum([x[0] - x[1] for x in zip([data[x][0][coord] for x in get_sorted(data, t, coord)][1:], [data[x][0][coord] for x in get_sorted(data, t, coord)])])/(len(data) - 1)"
   ]
  },
  {
   "cell_type": "code",
   "execution_count": 5,
   "id": "22fbdd14-84e9-4432-8084-a9e4a6c90334",
   "metadata": {},
   "outputs": [
    {
     "data": {
      "text/plain": [
       "([32928575559625, 21889579009388, 4375692242322],\n",
       " [558516164018636, 529811649098538, 544043093536510])"
      ]
     },
     "execution_count": 5,
     "metadata": {},
     "output_type": "execute_result"
    }
   ],
   "source": [
    "def extreme(data, t=0):\n",
    "    minmax = [[0,0,0], [0,0,0]]\n",
    "    for j in range(3):\n",
    "        mi = min([x[0][j] + x[1][j] * t for x in data])        \n",
    "        ma = max([x[0][j] + x[1][j] * t for x in data])\n",
    "        minmax[0][j] = mi\n",
    "        minmax[1][j] = ma\n",
    "    return minmax\n",
    "\n",
    "mini, maxi = extreme(data)\n",
    "mini, maxi"
   ]
  },
  {
   "cell_type": "code",
   "execution_count": 6,
   "id": "cc1adef5-ead1-484a-b860-61ac7c01326b",
   "metadata": {},
   "outputs": [],
   "source": [
    "def gcd(a, b):\n",
    "    if a < 0:\n",
    "        a = -a\n",
    "    if b < 0:\n",
    "        b = -b\n",
    "    if b > a:\n",
    "        a, b = b, a\n",
    "    if b == 0:\n",
    "        return a\n",
    "    return gcd(b, a % b)"
   ]
  },
  {
   "cell_type": "code",
   "execution_count": 36,
   "id": "1491d5bc-4c0d-4162-bd4f-c3ad8501b840",
   "metadata": {},
   "outputs": [],
   "source": [
    "def magnitude(a, b):\n",
    "    return int(math.sqrt(sum([(x[0] - x[1]) * (x[0] - x[1]) for x in zip(a, b)])))\n",
    "    \n",
    "def move(p, t):\n",
    "    return tuple([x[0] + x[1] for x in zip(p[0], [x * t for x in p[1]])])\n",
    "\n",
    "def distab(a, b):\n",
    "    return [(x[1] - x[0]) for x in zip(a, b)]\n",
    "\n",
    "def direction(a, b, ta=0, tb=0):\n",
    "    return [x/abs(x) for x in distab(move(a, ta), move(b, tb))]"
   ]
  },
  {
   "cell_type": "code",
   "execution_count": 38,
   "id": "360ce6d0-6ff8-4d2f-958c-a36c12da05c9",
   "metadata": {},
   "outputs": [
    {
     "data": {
      "text/plain": [
       "[1.0, -1.0, -1.0]"
      ]
     },
     "execution_count": 38,
     "metadata": {},
     "output_type": "execute_result"
    }
   ],
   "source": [
    "direction(data[294], data[36])"
   ]
  },
  {
   "cell_type": "code",
   "execution_count": 229,
   "id": "a0f958c7-a30c-4c0c-96ef-66747eeb18f8",
   "metadata": {},
   "outputs": [
    {
     "name": "stdout",
     "output_type": "stream",
     "text": [
      "Done 3 228 [-1.0, -1.0, 1.0] 2000000000000\n",
      "Done 4 139 [-1.0, -1.0, 1.0] 2500000000000\n",
      "Done 4 158 [-1.0, -1.0, 1.0] 2500000000000\n",
      "Done 5 54 [-1.0, -1.0, 1.0] 3000000000000\n",
      "Done 5 87 [-1.0, -1.0, 1.0] 3000000000000\n",
      "Done 6 34 [-1.0, -1.0, 1.0] 3500000000000\n",
      "Done 6 78 [-1.0, -1.0, 1.0] 3500000000000\n",
      "Done 6 171 [-1.0, -1.0, 1.0] 3500000000000\n",
      "Done 6 271 [-1.0, -1.0, 1.0] 3500000000000\n",
      "Done 7 77 [-1.0, -1.0, 1.0] 4000000000000\n",
      "Done 7 119 [-1.0, -1.0, 1.0] 4000000000000\n",
      "Done 7 298 [-1.0, -1.0, 1.0] 4000000000000\n",
      "Done 8 7 [-1.0, -1.0, 1.0] 4500000000000\n",
      "Done 8 247 [-1.0, -1.0, 1.0] 4500000000000\n",
      "Done 8 260 [-1.0, -1.0, 1.0] 4500000000000\n",
      "Done 9 147 [-1.0, -1.0, 1.0] 5000000000000\n",
      "Done 9 169 [-1.0, -1.0, 1.0] 5000000000000\n",
      "Done 10 243 [-1.0, -1.0, 1.0] 5500000000000\n",
      "Done 11 125 [-1.0, -1.0, 1.0] 6000000000000\n",
      "Done 11 239 [-1.0, -1.0, 1.0] 6000000000000\n",
      "Done 12 96 [-1.0, -1.0, 1.0] 6500000000000\n",
      "Done 13 33 [-1.0, -1.0, 1.0] 7000000000000\n",
      "Done 13 64 [-1.0, -1.0, 1.0] 7000000000000\n",
      "Done 14 26 [-1.0, -1.0, 1.0] 7500000000000\n",
      "Done 15 91 [-1.0, -1.0, 1.0] 8000000000000\n",
      "Done 15 131 [-1.0, -1.0, 1.0] 8000000000000\n",
      "Done 15 153 [-1.0, -1.0, 1.0] 8000000000000\n",
      "Done 15 293 [-1.0, -1.0, 1.0] 8000000000000\n",
      "Done 19 183 [-1.0, -1.0, 1.0] 10000000000000\n",
      "Done 20 152 [-1.0, -1.0, 1.0] 10500000000000\n",
      "Done 21 0 [-1.0, -1.0, 1.0] 11000000000000\n",
      "Done 21 1 [-1.0, -1.0, 1.0] 11000000000000\n",
      "Done 23 10 [-1.0, -1.0, 1.0] 12000000000000\n",
      "Done 23 218 [-1.0, -1.0, 1.0] 12000000000000\n",
      "Done 25 225 [-1.0, -1.0, 1.0] 13000000000000\n",
      "Done 27 299 [-1.0, -1.0, 1.0] 14000000000000\n",
      "Done 28 57 [-1.0, -1.0, 1.0] 14500000000000\n",
      "Done 34 128 [-1.0, -1.0, 1.0] 17500000000000\n",
      "Done 39 230 [-1.0, -1.0, 1.0] 20000000000000\n",
      "Done 51 162 [-1.0, -1.0, 1.0] 26000000000000\n",
      "Done 52 210 [-1.0, -1.0, 1.0] 26500000000000\n",
      "Done 54 79 [-1.0, -1.0, 1.0] 27500000000000\n",
      "Done 55 49 [-1.0, -1.0, 1.0] 28000000000000\n",
      "Done 57 221 [-1.0, -1.0, 1.0] 29000000000000\n",
      "Done 59 124 [-1.0, -1.0, 1.0] 30000000000000\n",
      "Done 72 38 [-1.0, -1.0, 1.0] 36500000000000\n",
      "Done 73 144 [-1.0, -1.0, 1.0] 37000000000000\n",
      "Done 91 179 [-1.0, -1.0, 1.0] 46000000000000\n",
      "Done 100 32 [-1.0, -1.0, 1.0] 50500000000000\n",
      "49\n"
     ]
    }
   ],
   "source": [
    "def ize(data):\n",
    "    done = []\n",
    "    skip = set()\n",
    "    c = [-1.0, -1.0, 1.0]\n",
    "    #c = [1.0, 1.0, -1.0]\n",
    "    step = 500000000000\n",
    "    for round in range(2 * len(data)):\n",
    "        tb = step * 1\n",
    "        ta = tb + round * step\n",
    "        for i in range(len(data)):\n",
    "            if i in skip:\n",
    "                continue\n",
    "            #c = None\n",
    "            for j in range(len(data)):\n",
    "                if j == i:\n",
    "                    continue\n",
    "                n = direction(data[i], data[j], ta, tb)\n",
    "                if c is None:\n",
    "                    c = list(n)\n",
    "                else:\n",
    "                    if n != c:\n",
    "                        break\n",
    "            else:\n",
    "                print('Done', round, i, c, ta)\n",
    "                done.append((i, c))\n",
    "                skip.add(i)\n",
    "    print(len(skip))\n",
    "    return done\n",
    "            \n",
    "d = ize(data)"
   ]
  },
  {
   "cell_type": "code",
   "execution_count": 219,
   "id": "a89d0719-91a3-4403-a2c3-bcedaf4cd2d1",
   "metadata": {},
   "outputs": [
    {
     "name": "stdout",
     "output_type": "stream",
     "text": [
      "Done 2 228 [-1.0, -1.0, 1.0] 10000000000000\n",
      "Done 5 139 [-1.0, -1.0, 1.0] 17500000000000\n",
      "Done 6 34 [-1.0, -1.0, 1.0] 20000000000000\n",
      "Done 6 158 [-1.0, -1.0, 1.0] 20000000000000\n",
      "Done 8 298 [-1.0, -1.0, 1.0] 25000000000000\n",
      "Done 10 119 [-1.0, -1.0, 1.0] 30000000000000\n",
      "Done 11 171 [-1.0, -1.0, 1.0] 32500000000000\n",
      "Done 12 87 [-1.0, -1.0, 1.0] 35000000000000\n",
      "Done 13 78 [-1.0, -1.0, 1.0] 37500000000000\n",
      "Done 13 271 [-1.0, -1.0, 1.0] 37500000000000\n",
      "Done 14 7 [-1.0, -1.0, 1.0] 40000000000000\n",
      "Done 14 33 [-1.0, -1.0, 1.0] 40000000000000\n",
      "Done 14 54 [-1.0, -1.0, 1.0] 40000000000000\n",
      "Done 14 247 [-1.0, -1.0, 1.0] 40000000000000\n",
      "Done 15 147 [-1.0, -1.0, 1.0] 42500000000000\n",
      "Done 17 77 [-1.0, -1.0, 1.0] 47500000000000\n",
      "Done 19 131 [-1.0, -1.0, 1.0] 52500000000000\n",
      "Done 20 169 [-1.0, -1.0, 1.0] 55000000000000\n",
      "Done 20 239 [-1.0, -1.0, 1.0] 55000000000000\n",
      "Done 21 26 [-1.0, -1.0, 1.0] 57500000000000\n",
      "Done 21 293 [-1.0, -1.0, 1.0] 57500000000000\n",
      "Done 22 243 [-1.0, -1.0, 1.0] 60000000000000\n",
      "Done 23 125 [-1.0, -1.0, 1.0] 62500000000000\n",
      "Done 25 96 [-1.0, -1.0, 1.0] 67500000000000\n",
      "Done 25 260 [-1.0, -1.0, 1.0] 67500000000000\n",
      "Done 27 64 [-1.0, -1.0, 1.0] 72500000000000\n",
      "Done 31 91 [-1.0, -1.0, 1.0] 82500000000000\n",
      "Done 35 153 [-1.0, -1.0, 1.0] 92500000000000\n",
      "Done 38 183 [-1.0, -1.0, 1.0] 100000000000000\n",
      "Done 42 128 [-1.0, -1.0, 1.0] 110000000000000\n",
      "Done 43 299 [-1.0, -1.0, 1.0] 112500000000000\n",
      "Done 46 1 [-1.0, -1.0, 1.0] 120000000000000\n",
      "Done 47 0 [-1.0, -1.0, 1.0] 122500000000000\n",
      "Done 49 57 [-1.0, -1.0, 1.0] 127500000000000\n",
      "Done 49 218 [-1.0, -1.0, 1.0] 127500000000000\n",
      "Done 49 225 [-1.0, -1.0, 1.0] 127500000000000\n",
      "Done 51 10 [-1.0, -1.0, 1.0] 132500000000000\n",
      "Done 52 152 [-1.0, -1.0, 1.0] 135000000000000\n",
      "Done 55 210 [-1.0, -1.0, 1.0] 142500000000000\n",
      "Done 59 162 [-1.0, -1.0, 1.0] 152500000000000\n",
      "Done 82 38 [-1.0, -1.0, 1.0] 210000000000000\n",
      "Done 83 230 [-1.0, -1.0, 1.0] 212500000000000\n",
      "Done 102 49 [-1.0, -1.0, 1.0] 260000000000000\n",
      "Done 124 79 [-1.0, -1.0, 1.0] 315000000000000\n",
      "Done 124 124 [-1.0, -1.0, 1.0] 315000000000000\n",
      "Done 161 144 [-1.0, -1.0, 1.0] 407500000000000\n",
      "Done 174 221 [-1.0, -1.0, 1.0] 440000000000000\n",
      "Done 181 179 [-1.0, -1.0, 1.0] 457500000000000\n",
      "Done 229 32 [-1.0, -1.0, 1.0] 577500000000000\n",
      "49\n"
     ]
    }
   ],
   "source": [
    "def ize(data):\n",
    "    done = []\n",
    "    skip = set()\n",
    "    c = [-1.0, -1.0, 1.0]\n",
    "    step = 2500000000000\n",
    "    for round in range(2 * len(data)):\n",
    "        tb = step * 2\n",
    "        ta = tb + round * step\n",
    "        for i in range(len(data)):\n",
    "            if i in skip:\n",
    "                continue\n",
    "            # c = None\n",
    "            for j in range(len(data)):\n",
    "                if j == i:\n",
    "                    continue\n",
    "                n = direction(data[i], data[j], ta, tb)\n",
    "                if c is None:\n",
    "                    c = list(n)\n",
    "                else:\n",
    "                    if n != c:\n",
    "                        break\n",
    "            else:\n",
    "                print('Done', round, i, c, ta)\n",
    "                done.append((i, c))\n",
    "                skip.add(i)\n",
    "    print(len(skip))\n",
    "    return done\n",
    "            \n",
    "d = ize(data)"
   ]
  },
  {
   "cell_type": "code",
   "execution_count": 180,
   "id": "459d8b16-aeac-4fcf-b65c-46c6e39fa818",
   "metadata": {},
   "outputs": [
    {
     "data": {
      "text/plain": [
       "49"
      ]
     },
     "execution_count": 180,
     "metadata": {},
     "output_type": "execute_result"
    }
   ],
   "source": [
    "sum([1 for x in d if x[1] == [-1.0, -1.0, 1.0]])"
   ]
  },
  {
   "cell_type": "code",
   "execution_count": 59,
   "id": "af7f5a58-7d0a-451a-ad1b-e6f7ee2a1bb3",
   "metadata": {},
   "outputs": [
    {
     "data": {
      "text/plain": [
       "500000000000"
      ]
     },
     "execution_count": 59,
     "metadata": {},
     "output_type": "execute_result"
    }
   ],
   "source": [
    "1000000000000 - 500000000000"
   ]
  },
  {
   "cell_type": "code",
   "execution_count": null,
   "id": "3e6e8748-43e2-45be-8274-257f87952994",
   "metadata": {},
   "outputs": [],
   "source": [
    "int(d(0) / 400000), int(d(1) / 400000), int(d(2) / 400000)"
   ]
  },
  {
   "cell_type": "code",
   "execution_count": null,
   "id": "c7106b3c-7ddd-4972-915a-528d80be8532",
   "metadata": {},
   "outputs": [],
   "source": [
    "s_x = get_sorted(data, coord=0)\n",
    "s_y = get_sorted(data, coord=1)\n",
    "s_z = get_sorted(data, coord=2)"
   ]
  },
  {
   "cell_type": "code",
   "execution_count": null,
   "id": "c0aa7b83-1f83-4fc5-b981-fb4e11f02bad",
   "metadata": {},
   "outputs": [],
   "source": [
    "(data[s_x[-1]][0][0] - data[s_x[0]][0][0]) / 4394545 / 300"
   ]
  },
  {
   "cell_type": "code",
   "execution_count": null,
   "id": "b25f66af-5c3c-439c-a62d-a0ced0f2cf5b",
   "metadata": {},
   "outputs": [],
   "source": [
    "def mord(i):\n",
    "    m = magnitude(mini, data[i][0])\n",
    "    return m #if data[j][0][2] > data[i][0][2] else -m\n",
    "    \n",
    "s_a = sorted([x for x in range(len(data))], key=mord, reverse=False)\n",
    "s_a[:10]"
   ]
  },
  {
   "cell_type": "code",
   "execution_count": null,
   "id": "4aa3b7b2-03bd-4676-9f7e-1e6d48e8ee33",
   "metadata": {},
   "outputs": [],
   "source": [
    "for i in range(1, len(s_a)):\n",
    "    a = data[s_a[i-1]][0]\n",
    "    b = data[s_a[i]][0]\n",
    "    m = magnitude(mini, b)\n",
    "    print(m, a, b)"
   ]
  },
  {
   "cell_type": "code",
   "execution_count": null,
   "id": "59b8c801-ece5-47d0-9d7b-42d1f5fbdddd",
   "metadata": {},
   "outputs": [],
   "source": [
    "sorted_a = sorted(data, key=itemgetter(0), reverse=False)\n",
    "for i in range(1, len(sorted_a)):\n",
    "    a = sorted_a[i-1][0]\n",
    "    b = sorted_a[i][0]\n",
    "    print(i, a, b)\n",
    "    assert(b[2] > a[2])\n",
    "    assert(b[1] > a[1])\n",
    "    assert(b[0] > a[0])"
   ]
  },
  {
   "cell_type": "code",
   "execution_count": null,
   "id": "76119786-0ba0-4b0a-94e1-db1db49d69d1",
   "metadata": {},
   "outputs": [],
   "source": [
    "[(x[1] - x[0]) / 545000000000000 for x in zip(*extreme(data, t=100000))]"
   ]
  },
  {
   "cell_type": "code",
   "execution_count": null,
   "id": "8c43799b-b0cc-49d2-ad0f-eb27f1be1027",
   "metadata": {},
   "outputs": [],
   "source": [
    "545000000000000 / 100000"
   ]
  },
  {
   "cell_type": "markdown",
   "id": "a746dd90-2d45-4ab5-9a28-93fce40f6832",
   "metadata": {},
   "source": [
    "The method introduced by Euclid for computing greatest common divisors is based on the fact that, given two positive integers a and b such that a > b, the common divisors of a and b are the same as the common divisors of a – b and b.\n",
    "\n",
    "So, Euclid's method for computing the greatest common divisor of two positive integers consists of replacing the larger number by the difference of the numbers, and repeating this until the two numbers are equal: that is their greatest common divisor.\n",
    "\n",
    "A more efficient method is the Euclidean algorithm, a variant in which the difference of the two numbers a and b is replaced by the remainder of the Euclidean division (also called division with remainder) of a by b.\n",
    "\n",
    "Denoting this remainder as a mod b, the algorithm replaces (a, b) by (b, a mod b) repeatedly until the pair is (d, 0), where d is the greatest common divisor."
   ]
  },
  {
   "cell_type": "code",
   "execution_count": null,
   "id": "31869272-9608-4a33-ac17-f64edb7a454e",
   "metadata": {},
   "outputs": [],
   "source": [
    "data_mi = sorted(data, key=lambda x: magnitude(mini, x[0]))\n",
    "data_ma = sorted(data, key=lambda x: magnitude(maxi, x[0]))"
   ]
  },
  {
   "cell_type": "code",
   "execution_count": null,
   "id": "a1840308-b182-4825-a794-3fc76fc86d60",
   "metadata": {},
   "outputs": [],
   "source": [
    "magnitude(mini, data_mi[0][0])"
   ]
  },
  {
   "cell_type": "code",
   "execution_count": null,
   "id": "a214033f-6074-451c-b464-20a97ba2dbdb",
   "metadata": {},
   "outputs": [],
   "source": [
    "def speed_probe2(a, b, limit=36, base=0):\n",
    "    mini = None\n",
    "    for i in range(2000):\n",
    "        pa = move(a, base + i)\n",
    "        for j in range(1, 2000):\n",
    "            pb = move(b, base + i + j)\n",
    "            d = distab(pa, pb)\n",
    "            g1, g2, g3 = gcd(d[0], j), gcd(d[1], j), gcd(d[2], j)\n",
    "            if g1 >= limit and  g2 >= limit and g3 >= limit:\n",
    "                if mini is None or min([g1, g2, g3]) > min(mini[1:]):\n",
    "                    mini = [(base + i, base + i + j), g1, g2, g3]\n",
    "                    print(mini, d[0] / j, d[1] / j, d[2] / j)\n",
    "    return mini\n",
    "\n",
    "def speed_probe3(a, b, base=0):\n",
    "    mini = None\n",
    "    pa = move(a, base)\n",
    "    for j in range(1, 4000):\n",
    "        pb = move(b, base + j)\n",
    "        d = distab(pa, pb)\n",
    "        g1, g2, g3 = (d[0] % j, d[1] % j, d[2] % j)\n",
    "        if g1 == 0 and g2 == 0 and g3 == 0:\n",
    "            mini = [(base, base + j), d]\n",
    "            print(mini, d[0] / j, d[1] / j, d[2] / j)\n",
    "    return mini\n",
    "    \n",
    "speed_probe2(data_mi[0], data_mi[1], limit=2)"
   ]
  },
  {
   "cell_type": "code",
   "execution_count": null,
   "id": "7ddcca38-f3db-486d-9c1e-912a098277b4",
   "metadata": {},
   "outputs": [],
   "source": [
    "speed_probe3(data_mi[1], data_mi[2], base=258)"
   ]
  },
  {
   "cell_type": "code",
   "execution_count": null,
   "id": "7e66b102-9d79-4c16-b1ea-b0a59cd3ff42",
   "metadata": {},
   "outputs": [],
   "source": [
    "def speed_probe(a, b, limit=36, base=0):\n",
    "    mini = None\n",
    "    for i in range(2000):\n",
    "        pa = move(a, base + i)\n",
    "        for j in range(1, 2000):\n",
    "            pb = move(b, base + i + j)\n",
    "            d = [(x[1]-x[0]) for x in zip(pa, pb)]\n",
    "            g1, g2, g3 = gcd(d[0], d[1]), gcd(d[0], d[2]), gcd(d[1], d[2])\n",
    "            if g1 >= limit and  g2 >= limit and g3 >= limit:\n",
    "                if mini is None or min([g1, g2, g3]) > min(mini[1:]):\n",
    "                    mini = [(base + i, base + i + j), g1, g2, g3]\n",
    "                    print(mini)\n",
    "    return mini\n",
    "\n",
    "speed_probe(data_mi[0], data_mi[1], limit=10)"
   ]
  },
  {
   "cell_type": "code",
   "execution_count": null,
   "id": "3e21e883-ea71-45ff-bfd6-6330129730c6",
   "metadata": {},
   "outputs": [],
   "source": [
    "move(data_mi[0], 620), move(data_mi[1], 2611)"
   ]
  },
  {
   "cell_type": "code",
   "execution_count": null,
   "id": "33253a94-c627-4f4a-ae50-2e918d775919",
   "metadata": {},
   "outputs": [],
   "source": [
    "distab(move(data_mi[0], 9), move(data_mi[1], 1296))"
   ]
  },
  {
   "cell_type": "code",
   "execution_count": null,
   "id": "57512748-dab3-4d75-a4f2-65d97faabeb7",
   "metadata": {},
   "outputs": [],
   "source": [
    "158713327666140 / (1296-9)"
   ]
  },
  {
   "cell_type": "code",
   "execution_count": null,
   "id": "8f183ced-ea9e-4b9f-9ff8-e205d804b9eb",
   "metadata": {},
   "outputs": [],
   "source": [
    "speed_probe(data_mi[1], data_mi[2], base=1296, limit=10)"
   ]
  },
  {
   "cell_type": "code",
   "execution_count": null,
   "id": "4c5e87ef-77aa-4fb8-8b03-a173b1708e56",
   "metadata": {},
   "outputs": [],
   "source": [
    "speed_probe(data_mi[2], data_mi[3], base=2638, limit=4)"
   ]
  },
  {
   "cell_type": "code",
   "execution_count": null,
   "id": "46cc070b-7df6-4014-8be6-c0789d3501e8",
   "metadata": {},
   "outputs": [],
   "source": [
    "def sdist(i, data):\n",
    "    pa = move(data[i], 0)\n",
    "    mi = None\n",
    "    for j in range(len(data)):\n",
    "        if j == i:\n",
    "            continue\n",
    "        pb = move(data[j], 0)\n",
    "        d = magnitude(pa, pb)\n",
    "        if mi is None or d < mi[1]:\n",
    "            mi = (j, d)\n",
    "    return mi[0]\n",
    "\n",
    "sdist(0, data_ma)"
   ]
  },
  {
   "cell_type": "code",
   "execution_count": null,
   "id": "00febad6-865d-4059-8ec4-f4e7f8546e34",
   "metadata": {},
   "outputs": [],
   "source": [
    "minmax = [[0,0,0], [0,0,0]]\n",
    "for i in range(2):\n",
    "    for j in range(3):\n",
    "        mi = min([x[i][j] for x in data])        \n",
    "        ma = max([x[i][j] for x in data])\n",
    "        minmax[i][j] = (mi, ma)\n",
    "        print([\"p\", \"v\"][i], ['x', 'y', 'z'][j], mi, ma)\n",
    "minmax"
   ]
  },
  {
   "cell_type": "code",
   "execution_count": null,
   "id": "75b317db-a619-47d8-9a67-e2d1deb013ec",
   "metadata": {},
   "outputs": [],
   "source": [
    "def sparrow(t=0):\n",
    "    mi, ma = None, None\n",
    "    for i in range(len(data)-1):\n",
    "        for j in range(i+1, len(data)):\n",
    "            n = magnitude(move(data[i], t), move(data[j], t))\n",
    "            if mi is None:\n",
    "                mi = n\n",
    "                ma = n\n",
    "            else:\n",
    "                mi = min(mi, n)\n",
    "                ma = max(ma, n)\n",
    "    return mi, ma\n",
    "\n",
    "sparrow(100)"
   ]
  },
  {
   "cell_type": "code",
   "execution_count": null,
   "id": "046bc485-3086-4460-9d23-ffd57781dae7",
   "metadata": {},
   "outputs": [],
   "source": [
    "def speedo(t=0):\n",
    "    mi, ma = None, None\n",
    "    for i in range(len(data)-1):\n",
    "        for j in range(i+1, len(data)):\n",
    "            n = distab(data[i], data[j], t)\n",
    "            if mi is None:\n",
    "                mi = n\n",
    "                ma = n\n",
    "            else:\n",
    "                mi = tuple([min(x[0], x[1]) for x in zip(mi, n)])\n",
    "                ma = tuple([max(x[0], x[1]) for x in zip(ma, n)])\n",
    "    return mi, ma\n",
    "\n",
    "speedo(), speedo(3000)"
   ]
  },
  {
   "cell_type": "code",
   "execution_count": null,
   "id": "e2cebb49-2014-4828-ae58-fda97ec640e5",
   "metadata": {},
   "outputs": [],
   "source": [
    "sorted(data[:10])"
   ]
  },
  {
   "cell_type": "code",
   "execution_count": null,
   "id": "d7cf6f7d-8f8b-4e5c-8764-bb7a3483afa2",
   "metadata": {},
   "outputs": [],
   "source": [
    "data[0], data[10]"
   ]
  }
 ],
 "metadata": {
  "kernelspec": {
   "display_name": "Python 3 (ipykernel)",
   "language": "python",
   "name": "python3"
  },
  "language_info": {
   "codemirror_mode": {
    "name": "ipython",
    "version": 3
   },
   "file_extension": ".py",
   "mimetype": "text/x-python",
   "name": "python",
   "nbconvert_exporter": "python",
   "pygments_lexer": "ipython3",
   "version": "3.11.6"
  }
 },
 "nbformat": 4,
 "nbformat_minor": 5
}
